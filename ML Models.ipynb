{
 "cells": [
  {
   "cell_type": "markdown",
   "metadata": {},
   "source": [
    "## AppDev Summative 2020 - Machine Learning Notebook"
   ]
  },
  {
   "cell_type": "markdown",
   "metadata": {},
   "source": [
    "#### Load Necessary Libraries"
   ]
  },
  {
   "cell_type": "code",
   "execution_count": 1,
   "metadata": {},
   "outputs": [],
   "source": [
    "import pandas as pd\n",
    "import numpy as np\n",
    "import matplotlib.pyplot as plt\n",
    "import seaborn as sns\n",
    "from sklearn.ensemble import RandomForestRegressor\n",
    "from sklearn.model_selection import train_test_split\n",
    "from sklearn.metrics import r2_score\n",
    "from sklearn.model_selection import KFold\n",
    "from sklearn.model_selection import cross_val_score\n",
    "import pickle\n",
    "import json\n"
   ]
  },
  {
   "cell_type": "markdown",
   "metadata": {},
   "source": [
    "## Solar Farm\n",
    "\n",
    "#### Import Historical Data"
   ]
  },
  {
   "cell_type": "code",
   "execution_count": 2,
   "metadata": {},
   "outputs": [],
   "source": [
    "solar_data = pd.read_csv('solar_generation_data.csv')"
   ]
  },
  {
   "cell_type": "code",
   "execution_count": 3,
   "metadata": {},
   "outputs": [
    {
     "data": {
      "text/html": [
       "<div>\n",
       "<style scoped>\n",
       "    .dataframe tbody tr th:only-of-type {\n",
       "        vertical-align: middle;\n",
       "    }\n",
       "\n",
       "    .dataframe tbody tr th {\n",
       "        vertical-align: top;\n",
       "    }\n",
       "\n",
       "    .dataframe thead th {\n",
       "        text-align: right;\n",
       "    }\n",
       "</style>\n",
       "<table border=\"1\" class=\"dataframe\">\n",
       "  <thead>\n",
       "    <tr style=\"text-align: right;\">\n",
       "      <th></th>\n",
       "      <th>Month</th>\n",
       "      <th>Day</th>\n",
       "      <th>Temp Hi</th>\n",
       "      <th>Temp Low</th>\n",
       "      <th>Solar</th>\n",
       "      <th>Cloud Cover Percentage</th>\n",
       "      <th>Rainfall in mm</th>\n",
       "      <th>Power Generated in MW</th>\n",
       "    </tr>\n",
       "  </thead>\n",
       "  <tbody>\n",
       "    <tr>\n",
       "      <th>100</th>\n",
       "      <td>Apr</td>\n",
       "      <td>11</td>\n",
       "      <td>93°</td>\n",
       "      <td>73°</td>\n",
       "      <td>22.6</td>\n",
       "      <td>7</td>\n",
       "      <td>0.0</td>\n",
       "      <td>7.48</td>\n",
       "    </tr>\n",
       "    <tr>\n",
       "      <th>175</th>\n",
       "      <td>Jun</td>\n",
       "      <td>25</td>\n",
       "      <td>77°</td>\n",
       "      <td>47°</td>\n",
       "      <td>17.4</td>\n",
       "      <td>5</td>\n",
       "      <td>0.0</td>\n",
       "      <td>5.76</td>\n",
       "    </tr>\n",
       "    <tr>\n",
       "      <th>217</th>\n",
       "      <td>Aug</td>\n",
       "      <td>6</td>\n",
       "      <td>80°</td>\n",
       "      <td>59°</td>\n",
       "      <td>19.6</td>\n",
       "      <td>6</td>\n",
       "      <td>0.0</td>\n",
       "      <td>6.49</td>\n",
       "    </tr>\n",
       "    <tr>\n",
       "      <th>332</th>\n",
       "      <td>Nov</td>\n",
       "      <td>29</td>\n",
       "      <td>103°</td>\n",
       "      <td>69°</td>\n",
       "      <td>26.6</td>\n",
       "      <td>8</td>\n",
       "      <td>NaN</td>\n",
       "      <td>8.81</td>\n",
       "    </tr>\n",
       "    <tr>\n",
       "      <th>218</th>\n",
       "      <td>Aug</td>\n",
       "      <td>7</td>\n",
       "      <td>83°</td>\n",
       "      <td>53°</td>\n",
       "      <td>19.2</td>\n",
       "      <td>6</td>\n",
       "      <td>0.0</td>\n",
       "      <td>6.36</td>\n",
       "    </tr>\n",
       "    <tr>\n",
       "      <th>289</th>\n",
       "      <td>Oct</td>\n",
       "      <td>17</td>\n",
       "      <td>103°</td>\n",
       "      <td>80°</td>\n",
       "      <td>26.5</td>\n",
       "      <td>8</td>\n",
       "      <td>0.0</td>\n",
       "      <td>8.77</td>\n",
       "    </tr>\n",
       "    <tr>\n",
       "      <th>232</th>\n",
       "      <td>Aug</td>\n",
       "      <td>21</td>\n",
       "      <td>77°</td>\n",
       "      <td>50°</td>\n",
       "      <td>21.0</td>\n",
       "      <td>7</td>\n",
       "      <td>0.0</td>\n",
       "      <td>6.95</td>\n",
       "    </tr>\n",
       "    <tr>\n",
       "      <th>294</th>\n",
       "      <td>Oct</td>\n",
       "      <td>22</td>\n",
       "      <td>95°</td>\n",
       "      <td>70°</td>\n",
       "      <td>24.9</td>\n",
       "      <td>8</td>\n",
       "      <td>0.0</td>\n",
       "      <td>8.25</td>\n",
       "    </tr>\n",
       "    <tr>\n",
       "      <th>200</th>\n",
       "      <td>Jul</td>\n",
       "      <td>20</td>\n",
       "      <td>81°</td>\n",
       "      <td>52°</td>\n",
       "      <td>18.4</td>\n",
       "      <td>6</td>\n",
       "      <td>0.0</td>\n",
       "      <td>6.09</td>\n",
       "    </tr>\n",
       "    <tr>\n",
       "      <th>251</th>\n",
       "      <td>Sep</td>\n",
       "      <td>9</td>\n",
       "      <td>81°</td>\n",
       "      <td>54°</td>\n",
       "      <td>23.0</td>\n",
       "      <td>7</td>\n",
       "      <td>0.0</td>\n",
       "      <td>7.62</td>\n",
       "    </tr>\n",
       "  </tbody>\n",
       "</table>\n",
       "</div>"
      ],
      "text/plain": [
       "    Month   Day Temp Hi Temp Low  Solar  Cloud Cover Percentage  \\\n",
       "100    Apr   11     93°      73°   22.6                       7   \n",
       "175    Jun   25     77°      47°   17.4                       5   \n",
       "217    Aug    6     80°      59°   19.6                       6   \n",
       "332    Nov   29    103°      69°   26.6                       8   \n",
       "218    Aug    7     83°      53°   19.2                       6   \n",
       "289    Oct   17    103°      80°   26.5                       8   \n",
       "232    Aug   21     77°      50°   21.0                       7   \n",
       "294    Oct   22     95°      70°   24.9                       8   \n",
       "200    Jul   20     81°      52°   18.4                       6   \n",
       "251    Sep    9     81°      54°   23.0                       7   \n",
       "\n",
       "     Rainfall in mm  Power Generated in MW  \n",
       "100             0.0                   7.48  \n",
       "175             0.0                   5.76  \n",
       "217             0.0                   6.49  \n",
       "332             NaN                   8.81  \n",
       "218             0.0                   6.36  \n",
       "289             0.0                   8.77  \n",
       "232             0.0                   6.95  \n",
       "294             0.0                   8.25  \n",
       "200             0.0                   6.09  \n",
       "251             0.0                   7.62  "
      ]
     },
     "execution_count": 3,
     "metadata": {},
     "output_type": "execute_result"
    }
   ],
   "source": [
    "solar_data.sample(10)"
   ]
  },
  {
   "cell_type": "code",
   "execution_count": 4,
   "metadata": {},
   "outputs": [
    {
     "name": "stdout",
     "output_type": "stream",
     "text": [
      "<class 'pandas.core.frame.DataFrame'>\n",
      "RangeIndex: 365 entries, 0 to 364\n",
      "Data columns (total 8 columns):\n",
      " #   Column                  Non-Null Count  Dtype  \n",
      "---  ------                  --------------  -----  \n",
      " 0   Month                   365 non-null    object \n",
      " 1   Day                     365 non-null    int64  \n",
      " 2   Temp Hi                 365 non-null    object \n",
      " 3   Temp Low                365 non-null    object \n",
      " 4   Solar                   365 non-null    float64\n",
      " 5   Cloud Cover Percentage  365 non-null    int64  \n",
      " 6   Rainfall in mm          312 non-null    float64\n",
      " 7   Power Generated in MW   365 non-null    float64\n",
      "dtypes: float64(3), int64(2), object(3)\n",
      "memory usage: 22.9+ KB\n"
     ]
    }
   ],
   "source": [
    "solar_data.info()"
   ]
  },
  {
   "cell_type": "code",
   "execution_count": 5,
   "metadata": {},
   "outputs": [
    {
     "data": {
      "text/plain": [
       "Month                      0\n",
       "Day                        0\n",
       "Temp Hi                    0\n",
       "Temp Low                   0\n",
       "Solar                      0\n",
       "Cloud Cover Percentage     0\n",
       "Rainfall in mm            53\n",
       "Power Generated in MW      0\n",
       "dtype: int64"
      ]
     },
     "execution_count": 5,
     "metadata": {},
     "output_type": "execute_result"
    }
   ],
   "source": [
    "solar_data.isnull().sum() #53 Null Values for Rainfall in mm"
   ]
  },
  {
   "cell_type": "code",
   "execution_count": 6,
   "metadata": {},
   "outputs": [
    {
     "data": {
      "text/html": [
       "<div>\n",
       "<style scoped>\n",
       "    .dataframe tbody tr th:only-of-type {\n",
       "        vertical-align: middle;\n",
       "    }\n",
       "\n",
       "    .dataframe tbody tr th {\n",
       "        vertical-align: top;\n",
       "    }\n",
       "\n",
       "    .dataframe thead th {\n",
       "        text-align: right;\n",
       "    }\n",
       "</style>\n",
       "<table border=\"1\" class=\"dataframe\">\n",
       "  <thead>\n",
       "    <tr style=\"text-align: right;\">\n",
       "      <th></th>\n",
       "      <th>Day</th>\n",
       "      <th>Solar</th>\n",
       "      <th>Cloud Cover Percentage</th>\n",
       "      <th>Rainfall in mm</th>\n",
       "      <th>Power Generated in MW</th>\n",
       "    </tr>\n",
       "  </thead>\n",
       "  <tbody>\n",
       "    <tr>\n",
       "      <th>count</th>\n",
       "      <td>365.000000</td>\n",
       "      <td>365.000000</td>\n",
       "      <td>365.000000</td>\n",
       "      <td>312.000000</td>\n",
       "      <td>365.000000</td>\n",
       "    </tr>\n",
       "    <tr>\n",
       "      <th>mean</th>\n",
       "      <td>15.720548</td>\n",
       "      <td>22.615068</td>\n",
       "      <td>6.972603</td>\n",
       "      <td>2.737179</td>\n",
       "      <td>7.488192</td>\n",
       "    </tr>\n",
       "    <tr>\n",
       "      <th>std</th>\n",
       "      <td>8.808321</td>\n",
       "      <td>5.311600</td>\n",
       "      <td>1.699811</td>\n",
       "      <td>16.472178</td>\n",
       "      <td>1.759069</td>\n",
       "    </tr>\n",
       "    <tr>\n",
       "      <th>min</th>\n",
       "      <td>1.000000</td>\n",
       "      <td>1.500000</td>\n",
       "      <td>1.000000</td>\n",
       "      <td>0.000000</td>\n",
       "      <td>0.500000</td>\n",
       "    </tr>\n",
       "    <tr>\n",
       "      <th>25%</th>\n",
       "      <td>8.000000</td>\n",
       "      <td>18.500000</td>\n",
       "      <td>6.000000</td>\n",
       "      <td>0.000000</td>\n",
       "      <td>6.130000</td>\n",
       "    </tr>\n",
       "    <tr>\n",
       "      <th>50%</th>\n",
       "      <td>16.000000</td>\n",
       "      <td>22.800000</td>\n",
       "      <td>7.000000</td>\n",
       "      <td>0.000000</td>\n",
       "      <td>7.550000</td>\n",
       "    </tr>\n",
       "    <tr>\n",
       "      <th>75%</th>\n",
       "      <td>23.000000</td>\n",
       "      <td>27.000000</td>\n",
       "      <td>9.000000</td>\n",
       "      <td>0.000000</td>\n",
       "      <td>8.940000</td>\n",
       "    </tr>\n",
       "    <tr>\n",
       "      <th>max</th>\n",
       "      <td>31.000000</td>\n",
       "      <td>30.200000</td>\n",
       "      <td>9.000000</td>\n",
       "      <td>161.500000</td>\n",
       "      <td>10.000000</td>\n",
       "    </tr>\n",
       "  </tbody>\n",
       "</table>\n",
       "</div>"
      ],
      "text/plain": [
       "              Day       Solar  Cloud Cover Percentage  Rainfall in mm  \\\n",
       "count  365.000000  365.000000              365.000000      312.000000   \n",
       "mean    15.720548   22.615068                6.972603        2.737179   \n",
       "std      8.808321    5.311600                1.699811       16.472178   \n",
       "min      1.000000    1.500000                1.000000        0.000000   \n",
       "25%      8.000000   18.500000                6.000000        0.000000   \n",
       "50%     16.000000   22.800000                7.000000        0.000000   \n",
       "75%     23.000000   27.000000                9.000000        0.000000   \n",
       "max     31.000000   30.200000                9.000000      161.500000   \n",
       "\n",
       "       Power Generated in MW  \n",
       "count             365.000000  \n",
       "mean                7.488192  \n",
       "std                 1.759069  \n",
       "min                 0.500000  \n",
       "25%                 6.130000  \n",
       "50%                 7.550000  \n",
       "75%                 8.940000  \n",
       "max                10.000000  "
      ]
     },
     "execution_count": 6,
     "metadata": {},
     "output_type": "execute_result"
    }
   ],
   "source": [
    "solar_data.describe()"
   ]
  },
  {
   "cell_type": "markdown",
   "metadata": {},
   "source": [
    "At a quick glance at descriptive statistics, it appears we do not have any outliers."
   ]
  },
  {
   "cell_type": "code",
   "execution_count": 7,
   "metadata": {},
   "outputs": [
    {
     "data": {
      "text/plain": [
       "<AxesSubplot:title={'center':'Figure 1 - Missing Data Location'}>"
      ]
     },
     "execution_count": 7,
     "metadata": {},
     "output_type": "execute_result"
    },
    {
     "data": {
      "image/png": "[encoded data removed]",
      "text/plain": [
       "<Figure size 2160x1440 with 2 Axes>"
      ]
     },
     "metadata": {
      "needs_background": "light"
     },
     "output_type": "display_data"
    }
   ],
   "source": [
    "plt.figure(figsize=(30,20))\n",
    "plt.title('Figure 1 - Missing Data Location', fontsize = 20)\n",
    "colours = ['white', 'black'] # - black represents Null data.\n",
    "sns.heatmap(solar_data.isnull(), cmap=sns.color_palette(colours))"
   ]
  },
  {
   "cell_type": "markdown",
   "metadata": {},
   "source": [
    "From the missing data location, we see Rainfall in mm missing values are all towards the end of the year. \n",
    "\n",
    "Because of this reason, we decide to drop all missing values since the number of missing values isn't too significant, and I don;t want to skew the dataset by imputing missing values."
   ]
  },
  {
   "cell_type": "code",
   "execution_count": 8,
   "metadata": {},
   "outputs": [],
   "source": [
    "solar_data.dropna(inplace=True)"
   ]
  },
  {
   "cell_type": "code",
   "execution_count": 9,
   "metadata": {},
   "outputs": [
    {
     "data": {
      "text/html": [
       "<div>\n",
       "<style scoped>\n",
       "    .dataframe tbody tr th:only-of-type {\n",
       "        vertical-align: middle;\n",
       "    }\n",
       "\n",
       "    .dataframe tbody tr th {\n",
       "        vertical-align: top;\n",
       "    }\n",
       "\n",
       "    .dataframe thead th {\n",
       "        text-align: right;\n",
       "    }\n",
       "</style>\n",
       "<table border=\"1\" class=\"dataframe\">\n",
       "  <thead>\n",
       "    <tr style=\"text-align: right;\">\n",
       "      <th></th>\n",
       "      <th>Month</th>\n",
       "      <th>Day</th>\n",
       "      <th>Temp Hi</th>\n",
       "      <th>Temp Low</th>\n",
       "      <th>Solar</th>\n",
       "      <th>Cloud Cover Percentage</th>\n",
       "      <th>Rainfall in mm</th>\n",
       "      <th>Power Generated in MW</th>\n",
       "    </tr>\n",
       "  </thead>\n",
       "  <tbody>\n",
       "    <tr>\n",
       "      <th>217</th>\n",
       "      <td>Aug</td>\n",
       "      <td>6</td>\n",
       "      <td>80°</td>\n",
       "      <td>59°</td>\n",
       "      <td>19.6</td>\n",
       "      <td>6</td>\n",
       "      <td>0.0</td>\n",
       "      <td>6.49</td>\n",
       "    </tr>\n",
       "    <tr>\n",
       "      <th>221</th>\n",
       "      <td>Aug</td>\n",
       "      <td>10</td>\n",
       "      <td>76°</td>\n",
       "      <td>47°</td>\n",
       "      <td>19.7</td>\n",
       "      <td>6</td>\n",
       "      <td>0.0</td>\n",
       "      <td>6.52</td>\n",
       "    </tr>\n",
       "    <tr>\n",
       "      <th>219</th>\n",
       "      <td>Aug</td>\n",
       "      <td>8</td>\n",
       "      <td>84°</td>\n",
       "      <td>52°</td>\n",
       "      <td>19.8</td>\n",
       "      <td>6</td>\n",
       "      <td>0.0</td>\n",
       "      <td>6.56</td>\n",
       "    </tr>\n",
       "    <tr>\n",
       "      <th>300</th>\n",
       "      <td>Oct</td>\n",
       "      <td>28</td>\n",
       "      <td>97°</td>\n",
       "      <td>78°</td>\n",
       "      <td>23.2</td>\n",
       "      <td>7</td>\n",
       "      <td>0.0</td>\n",
       "      <td>7.68</td>\n",
       "    </tr>\n",
       "    <tr>\n",
       "      <th>287</th>\n",
       "      <td>Oct</td>\n",
       "      <td>15</td>\n",
       "      <td>104°</td>\n",
       "      <td>70°</td>\n",
       "      <td>27.2</td>\n",
       "      <td>9</td>\n",
       "      <td>0.0</td>\n",
       "      <td>9.01</td>\n",
       "    </tr>\n",
       "    <tr>\n",
       "      <th>216</th>\n",
       "      <td>Aug</td>\n",
       "      <td>5</td>\n",
       "      <td>81°</td>\n",
       "      <td>61°</td>\n",
       "      <td>19.0</td>\n",
       "      <td>6</td>\n",
       "      <td>0.0</td>\n",
       "      <td>6.29</td>\n",
       "    </tr>\n",
       "    <tr>\n",
       "      <th>161</th>\n",
       "      <td>Jun</td>\n",
       "      <td>11</td>\n",
       "      <td>81°</td>\n",
       "      <td>59°</td>\n",
       "      <td>17.5</td>\n",
       "      <td>5</td>\n",
       "      <td>0.0</td>\n",
       "      <td>5.79</td>\n",
       "    </tr>\n",
       "    <tr>\n",
       "      <th>236</th>\n",
       "      <td>Aug</td>\n",
       "      <td>25</td>\n",
       "      <td>85°</td>\n",
       "      <td>54°</td>\n",
       "      <td>21.4</td>\n",
       "      <td>7</td>\n",
       "      <td>0.0</td>\n",
       "      <td>7.09</td>\n",
       "    </tr>\n",
       "    <tr>\n",
       "      <th>259</th>\n",
       "      <td>Sep</td>\n",
       "      <td>17</td>\n",
       "      <td>93°</td>\n",
       "      <td>55°</td>\n",
       "      <td>23.9</td>\n",
       "      <td>7</td>\n",
       "      <td>0.0</td>\n",
       "      <td>7.91</td>\n",
       "    </tr>\n",
       "    <tr>\n",
       "      <th>114</th>\n",
       "      <td>Apr</td>\n",
       "      <td>25</td>\n",
       "      <td>94°</td>\n",
       "      <td>70°</td>\n",
       "      <td>20.3</td>\n",
       "      <td>6</td>\n",
       "      <td>0.0</td>\n",
       "      <td>6.72</td>\n",
       "    </tr>\n",
       "  </tbody>\n",
       "</table>\n",
       "</div>"
      ],
      "text/plain": [
       "    Month   Day Temp Hi Temp Low  Solar  Cloud Cover Percentage  \\\n",
       "217    Aug    6     80°      59°   19.6                       6   \n",
       "221    Aug   10     76°      47°   19.7                       6   \n",
       "219    Aug    8     84°      52°   19.8                       6   \n",
       "300    Oct   28     97°      78°   23.2                       7   \n",
       "287    Oct   15    104°      70°   27.2                       9   \n",
       "216    Aug    5     81°      61°   19.0                       6   \n",
       "161    Jun   11     81°      59°   17.5                       5   \n",
       "236    Aug   25     85°      54°   21.4                       7   \n",
       "259    Sep   17     93°      55°   23.9                       7   \n",
       "114    Apr   25     94°      70°   20.3                       6   \n",
       "\n",
       "     Rainfall in mm  Power Generated in MW  \n",
       "217             0.0                   6.49  \n",
       "221             0.0                   6.52  \n",
       "219             0.0                   6.56  \n",
       "300             0.0                   7.68  \n",
       "287             0.0                   9.01  \n",
       "216             0.0                   6.29  \n",
       "161             0.0                   5.79  \n",
       "236             0.0                   7.09  \n",
       "259             0.0                   7.91  \n",
       "114             0.0                   6.72  "
      ]
     },
     "execution_count": 9,
     "metadata": {},
     "output_type": "execute_result"
    }
   ],
   "source": [
    "solar_data.sample(10)"
   ]
  },
  {
   "cell_type": "code",
   "execution_count": 10,
   "metadata": {},
   "outputs": [],
   "source": [
    "solar_data.drop(columns = ['Month ', 'Day'], inplace = True)"
   ]
  },
  {
   "cell_type": "code",
   "execution_count": 11,
   "metadata": {},
   "outputs": [
    {
     "data": {
      "text/plain": [
       "Index(['Temp Hi', 'Temp Low', 'Solar', 'Cloud Cover Percentage',\n",
       "       'Rainfall in mm', 'Power Generated in MW'],\n",
       "      dtype='object')"
      ]
     },
     "execution_count": 11,
     "metadata": {},
     "output_type": "execute_result"
    }
   ],
   "source": [
    "solar_data.columns"
   ]
  },
  {
   "cell_type": "code",
   "execution_count": 12,
   "metadata": {},
   "outputs": [],
   "source": [
    "solar_data['Temp Hi'] = solar_data['Temp Hi'].replace('\\u00b0','', regex=True)\n",
    "solar_data['Temp Low'] = solar_data['Temp Low'].replace('\\u00b0','', regex=True)"
   ]
  },
  {
   "cell_type": "code",
   "execution_count": 13,
   "metadata": {},
   "outputs": [
    {
     "name": "stdout",
     "output_type": "stream",
     "text": [
      "<class 'pandas.core.frame.DataFrame'>\n",
      "Int64Index: 312 entries, 0 to 311\n",
      "Data columns (total 6 columns):\n",
      " #   Column                  Non-Null Count  Dtype  \n",
      "---  ------                  --------------  -----  \n",
      " 0   Temp Hi                 312 non-null    object \n",
      " 1   Temp Low                312 non-null    object \n",
      " 2   Solar                   312 non-null    float64\n",
      " 3   Cloud Cover Percentage  312 non-null    int64  \n",
      " 4   Rainfall in mm          312 non-null    float64\n",
      " 5   Power Generated in MW   312 non-null    float64\n",
      "dtypes: float64(3), int64(1), object(2)\n",
      "memory usage: 17.1+ KB\n"
     ]
    }
   ],
   "source": [
    "solar_data.info()"
   ]
  },
  {
   "cell_type": "code",
   "execution_count": 14,
   "metadata": {},
   "outputs": [],
   "source": [
    "for i in range (0,3):\n",
    "    solar_data.iloc[:,i] = solar_data.iloc[:,i].apply(pd.to_numeric, errors = 'coerce')"
   ]
  },
  {
   "cell_type": "code",
   "execution_count": 15,
   "metadata": {},
   "outputs": [
    {
     "name": "stdout",
     "output_type": "stream",
     "text": [
      "<class 'pandas.core.frame.DataFrame'>\n",
      "Int64Index: 312 entries, 0 to 311\n",
      "Data columns (total 6 columns):\n",
      " #   Column                  Non-Null Count  Dtype  \n",
      "---  ------                  --------------  -----  \n",
      " 0   Temp Hi                 312 non-null    int64  \n",
      " 1   Temp Low                312 non-null    int64  \n",
      " 2   Solar                   312 non-null    float64\n",
      " 3   Cloud Cover Percentage  312 non-null    int64  \n",
      " 4   Rainfall in mm          312 non-null    float64\n",
      " 5   Power Generated in MW   312 non-null    float64\n",
      "dtypes: float64(3), int64(3)\n",
      "memory usage: 17.1 KB\n"
     ]
    }
   ],
   "source": [
    "solar_data.info()"
   ]
  },
  {
   "cell_type": "code",
   "execution_count": 16,
   "metadata": {},
   "outputs": [
    {
     "data": {
      "text/plain": [
       "Text(0.5, 1.0, 'Figure 2 - Correlation Heatmap Showing Strenth of Linear Relationship between Variables')"
      ]
     },
     "execution_count": 16,
     "metadata": {},
     "output_type": "execute_result"
    },
    {
     "data": {
      "image/png": "[encoded data removed]",
      "text/plain": [
       "<Figure size 1296x864 with 2 Axes>"
      ]
     },
     "metadata": {
      "needs_background": "light"
     },
     "output_type": "display_data"
    }
   ],
   "source": [
    "correlation = solar_data.corr()\n",
    "plt.subplots(figsize=(18,12))\n",
    "sns.heatmap(correlation, center=0, annot=True, linewidths=.3)\n",
    "plt.title('Figure 2 - Correlation Heatmap Showing Strenth of Linear Relationship between Variables', \n",
    "          fontsize = 16)"
   ]
  },
  {
   "cell_type": "markdown",
   "metadata": {},
   "source": [
    "Solar is essentially the same thing as power generated as they have a perfect correlation. \n",
    "\n",
    "Hence, we drop Solar."
   ]
  },
  {
   "cell_type": "code",
   "execution_count": 17,
   "metadata": {},
   "outputs": [],
   "source": [
    "# Values of target\n",
    "y = solar_data['Power Generated in MW'].values #Target Variables\n",
    "\n",
    "# Values of attributes\n",
    "X_data = solar_data.drop(['Power Generated in MW', 'Solar'], axis=1) #We have now dropped solar.\n",
    "X = X_data.values\n",
    "\n",
    "# Splitting\n",
    "X_train, X_test, y_train, y_test = train_test_split(X, y, test_size=0.3, random_state=0)"
   ]
  },
  {
   "cell_type": "code",
   "execution_count": 18,
   "metadata": {},
   "outputs": [
    {
     "name": "stdout",
     "output_type": "stream",
     "text": [
      "Training Features Shape: (218, 4)\n",
      "Training Labels Shape: (218,)\n",
      "Testing Features Shape: (94, 4)\n",
      "Testing Labels Shape: (94,)\n"
     ]
    }
   ],
   "source": [
    "print('Training Features Shape:', X_train.shape)\n",
    "print('Training Labels Shape:', y_train.shape)\n",
    "print('Testing Features Shape:', X_test.shape)\n",
    "print('Testing Labels Shape:', y_test.shape)"
   ]
  },
  {
   "cell_type": "code",
   "execution_count": 19,
   "metadata": {},
   "outputs": [],
   "source": [
    "rf = RandomForestRegressor(n_estimators = 150, random_state = 42) #Using a Random Forest Regressor"
   ]
  },
  {
   "cell_type": "code",
   "execution_count": 20,
   "metadata": {},
   "outputs": [
    {
     "data": {
      "text/plain": [
       "RandomForestRegressor(n_estimators=150, random_state=42)"
      ]
     },
     "execution_count": 20,
     "metadata": {},
     "output_type": "execute_result"
    }
   ],
   "source": [
    "rf.fit(X_train, y_train)"
   ]
  },
  {
   "cell_type": "code",
   "execution_count": 21,
   "metadata": {},
   "outputs": [
    {
     "data": {
      "text/plain": [
       "0.9584123827031119"
      ]
     },
     "execution_count": 21,
     "metadata": {},
     "output_type": "execute_result"
    }
   ],
   "source": [
    "predicted_labels = rf.predict(X_test)\n",
    "score = r2_score(y_test, predicted_labels)\n",
    "score"
   ]
  },
  {
   "cell_type": "code",
   "execution_count": 22,
   "metadata": {},
   "outputs": [
    {
     "name": "stdout",
     "output_type": "stream",
     "text": [
      "Accuracy:  0.9570108176156802\n"
     ]
    }
   ],
   "source": [
    "kfold = KFold(n_splits=10)\n",
    "results = cross_val_score(rf, X_train, y_train, cv=kfold)\n",
    "print(\"Accuracy: \", results.mean())"
   ]
  },
  {
   "cell_type": "code",
   "execution_count": null,
   "metadata": {},
   "outputs": [],
   "source": []
  },
  {
   "cell_type": "markdown",
   "metadata": {},
   "source": [
    "##### Model Performance\n",
    "\n",
    "We get an R2 score of 95.8%. Our model performs really well on test data.\n",
    "\n",
    "The score is also maintained while running a KFold Cross Validation with 10 splits. \n",
    "\n",
    "Let's take a look at feature importance, and see which input variables hold the most importance."
   ]
  },
  {
   "cell_type": "code",
   "execution_count": 23,
   "metadata": {},
   "outputs": [
    {
     "data": {
      "text/html": [
       "<div>\n",
       "<style scoped>\n",
       "    .dataframe tbody tr th:only-of-type {\n",
       "        vertical-align: middle;\n",
       "    }\n",
       "\n",
       "    .dataframe tbody tr th {\n",
       "        vertical-align: top;\n",
       "    }\n",
       "\n",
       "    .dataframe thead th {\n",
       "        text-align: right;\n",
       "    }\n",
       "</style>\n",
       "<table border=\"1\" class=\"dataframe\">\n",
       "  <thead>\n",
       "    <tr style=\"text-align: right;\">\n",
       "      <th></th>\n",
       "      <th>feature</th>\n",
       "      <th>importance</th>\n",
       "    </tr>\n",
       "  </thead>\n",
       "  <tbody>\n",
       "    <tr>\n",
       "      <th>2</th>\n",
       "      <td>Cloud Cover Percentage</td>\n",
       "      <td>0.971436</td>\n",
       "    </tr>\n",
       "    <tr>\n",
       "      <th>0</th>\n",
       "      <td>Temp Hi</td>\n",
       "      <td>0.012870</td>\n",
       "    </tr>\n",
       "    <tr>\n",
       "      <th>1</th>\n",
       "      <td>Temp Low</td>\n",
       "      <td>0.011644</td>\n",
       "    </tr>\n",
       "    <tr>\n",
       "      <th>3</th>\n",
       "      <td>Rainfall in mm</td>\n",
       "      <td>0.004050</td>\n",
       "    </tr>\n",
       "  </tbody>\n",
       "</table>\n",
       "</div>"
      ],
      "text/plain": [
       "                  feature  importance\n",
       "2  Cloud Cover Percentage    0.971436\n",
       "0                 Temp Hi    0.012870\n",
       "1                Temp Low    0.011644\n",
       "3          Rainfall in mm    0.004050"
      ]
     },
     "execution_count": 23,
     "metadata": {},
     "output_type": "execute_result"
    }
   ],
   "source": [
    "result = pd.DataFrame()\n",
    "result['feature'] = X_data.columns # column's names\n",
    "result['importance'] = rf.feature_importances_ # values\n",
    "result.sort_values(by=['importance'], ascending=False, inplace=True)\n",
    "result"
   ]
  },
  {
   "cell_type": "code",
   "execution_count": 24,
   "metadata": {},
   "outputs": [
    {
     "data": {
      "image/png": "[encoded data removed]",
      "text/plain": [
       "<Figure size 2160x576 with 1 Axes>"
      ]
     },
     "metadata": {
      "needs_background": "light"
     },
     "output_type": "display_data"
    }
   ],
   "source": [
    "plt.figure(figsize = (30,8))\n",
    "plt.title('Figure 3 - Feature Importances', fontsize = 25)\n",
    "plt.bar(range(len(result['feature'])), result['importance'], color='blue', align='center')\n",
    "plt.xticks(range(len(result['feature'])), result['feature'], rotation=90)\n",
    "plt.show()"
   ]
  },
  {
   "cell_type": "markdown",
   "metadata": {},
   "source": [
    "From Feature Importance Table and Figure above, we see that Three (3) variables contribute the most to our model. \n",
    "\n",
    "These three variables are \"Cloud Cover Percentage\", \"Temp Hi\" and \"Temp Lo\"\n",
    "\n",
    "We shall therefore drop the Rainfall column, and proceeed to use the 3 Variables for our final model."
   ]
  },
  {
   "cell_type": "code",
   "execution_count": null,
   "metadata": {},
   "outputs": [],
   "source": []
  },
  {
   "cell_type": "code",
   "execution_count": 25,
   "metadata": {},
   "outputs": [],
   "source": [
    "# Values of target\n",
    "y = solar_data['Power Generated in MW'].values\n",
    "\n",
    "# Values of attributes\n",
    "X_data = solar_data.drop(['Power Generated in MW', 'Solar', 'Rainfall in mm'], axis=1)\n",
    "X = X_data.values\n",
    "\n",
    "# Splitting\n",
    "X_train, X_test, y_train, y_test = train_test_split(X, y, test_size=0.3, random_state=0)"
   ]
  },
  {
   "cell_type": "code",
   "execution_count": 26,
   "metadata": {},
   "outputs": [
    {
     "name": "stdout",
     "output_type": "stream",
     "text": [
      "Training Features Shape: (218, 3)\n",
      "Training Labels Shape: (218,)\n",
      "Testing Features Shape: (94, 3)\n",
      "Testing Labels Shape: (94,)\n"
     ]
    }
   ],
   "source": [
    "print('Training Features Shape:', X_train.shape)\n",
    "print('Training Labels Shape:', y_train.shape)\n",
    "print('Testing Features Shape:', X_test.shape)\n",
    "print('Testing Labels Shape:', y_test.shape)"
   ]
  },
  {
   "cell_type": "code",
   "execution_count": 27,
   "metadata": {},
   "outputs": [
    {
     "data": {
      "text/plain": [
       "Index(['Temp Hi', 'Temp Low', 'Cloud Cover Percentage'], dtype='object')"
      ]
     },
     "execution_count": 27,
     "metadata": {},
     "output_type": "execute_result"
    }
   ],
   "source": [
    "X_data.columns"
   ]
  },
  {
   "cell_type": "code",
   "execution_count": 28,
   "metadata": {},
   "outputs": [],
   "source": [
    "rf_solar = RandomForestRegressor(n_estimators = 150, random_state = 42)"
   ]
  },
  {
   "cell_type": "code",
   "execution_count": 29,
   "metadata": {},
   "outputs": [
    {
     "data": {
      "text/plain": [
       "RandomForestRegressor(n_estimators=150, random_state=42)"
      ]
     },
     "execution_count": 29,
     "metadata": {},
     "output_type": "execute_result"
    }
   ],
   "source": [
    "rf_solar.fit(X_train, y_train)"
   ]
  },
  {
   "cell_type": "code",
   "execution_count": 30,
   "metadata": {},
   "outputs": [
    {
     "data": {
      "text/plain": [
       "0.9591425786639491"
      ]
     },
     "execution_count": 30,
     "metadata": {},
     "output_type": "execute_result"
    }
   ],
   "source": [
    "predictions = rf_solar.predict(X_test)\n",
    "score = r2_score(y_test, predictions)\n",
    "score"
   ]
  },
  {
   "cell_type": "markdown",
   "metadata": {},
   "source": [
    "### Saving our Solar Prediction Model"
   ]
  },
  {
   "cell_type": "code",
   "execution_count": 31,
   "metadata": {},
   "outputs": [],
   "source": [
    "pickle.dump(rf_solar, file = open(\"solar_model.pkl\", \"wb\")) #Model saved as solar_model.pkl in the pwd"
   ]
  },
  {
   "cell_type": "code",
   "execution_count": null,
   "metadata": {},
   "outputs": [],
   "source": []
  },
  {
   "cell_type": "code",
   "execution_count": null,
   "metadata": {},
   "outputs": [],
   "source": []
  },
  {
   "cell_type": "code",
   "execution_count": null,
   "metadata": {},
   "outputs": [],
   "source": []
  },
  {
   "cell_type": "markdown",
   "metadata": {},
   "source": [
    "## Wind Farm\n",
    "\n",
    "#### Import dataset"
   ]
  },
  {
   "cell_type": "code",
   "execution_count": 32,
   "metadata": {},
   "outputs": [],
   "source": [
    "wind_data = pd.read_csv('wind_generation_data.csv')"
   ]
  },
  {
   "cell_type": "code",
   "execution_count": 33,
   "metadata": {},
   "outputs": [
    {
     "name": "stdout",
     "output_type": "stream",
     "text": [
      "<class 'pandas.core.frame.DataFrame'>\n",
      "RangeIndex: 366 entries, 0 to 365\n",
      "Data columns (total 3 columns):\n",
      " #   Column        Non-Null Count  Dtype  \n",
      "---  ------        --------------  -----  \n",
      " 0   wind speed    366 non-null    float64\n",
      " 1   direction     366 non-null    int64  \n",
      " 2   Power Output  366 non-null    float64\n",
      "dtypes: float64(2), int64(1)\n",
      "memory usage: 8.7 KB\n"
     ]
    }
   ],
   "source": [
    "wind_data.info() #No Null Values"
   ]
  },
  {
   "cell_type": "code",
   "execution_count": 34,
   "metadata": {},
   "outputs": [
    {
     "data": {
      "text/html": [
       "<div>\n",
       "<style scoped>\n",
       "    .dataframe tbody tr th:only-of-type {\n",
       "        vertical-align: middle;\n",
       "    }\n",
       "\n",
       "    .dataframe tbody tr th {\n",
       "        vertical-align: top;\n",
       "    }\n",
       "\n",
       "    .dataframe thead th {\n",
       "        text-align: right;\n",
       "    }\n",
       "</style>\n",
       "<table border=\"1\" class=\"dataframe\">\n",
       "  <thead>\n",
       "    <tr style=\"text-align: right;\">\n",
       "      <th></th>\n",
       "      <th>wind speed</th>\n",
       "      <th>direction</th>\n",
       "      <th>Power Output</th>\n",
       "    </tr>\n",
       "  </thead>\n",
       "  <tbody>\n",
       "    <tr>\n",
       "      <th>count</th>\n",
       "      <td>366.000000</td>\n",
       "      <td>366.000000</td>\n",
       "      <td>366.000000</td>\n",
       "    </tr>\n",
       "    <tr>\n",
       "      <th>mean</th>\n",
       "      <td>15.695792</td>\n",
       "      <td>220.081967</td>\n",
       "      <td>37.193607</td>\n",
       "    </tr>\n",
       "    <tr>\n",
       "      <th>std</th>\n",
       "      <td>3.743556</td>\n",
       "      <td>4.462796</td>\n",
       "      <td>7.243363</td>\n",
       "    </tr>\n",
       "    <tr>\n",
       "      <th>min</th>\n",
       "      <td>7.450000</td>\n",
       "      <td>209.000000</td>\n",
       "      <td>23.170000</td>\n",
       "    </tr>\n",
       "    <tr>\n",
       "      <th>25%</th>\n",
       "      <td>13.000000</td>\n",
       "      <td>218.000000</td>\n",
       "      <td>31.352500</td>\n",
       "    </tr>\n",
       "    <tr>\n",
       "      <th>50%</th>\n",
       "      <td>15.530000</td>\n",
       "      <td>220.000000</td>\n",
       "      <td>37.525000</td>\n",
       "    </tr>\n",
       "    <tr>\n",
       "      <th>75%</th>\n",
       "      <td>18.802500</td>\n",
       "      <td>222.000000</td>\n",
       "      <td>42.925000</td>\n",
       "    </tr>\n",
       "    <tr>\n",
       "      <th>max</th>\n",
       "      <td>22.710000</td>\n",
       "      <td>234.000000</td>\n",
       "      <td>51.810000</td>\n",
       "    </tr>\n",
       "  </tbody>\n",
       "</table>\n",
       "</div>"
      ],
      "text/plain": [
       "       wind speed   direction  Power Output\n",
       "count  366.000000  366.000000    366.000000\n",
       "mean    15.695792  220.081967     37.193607\n",
       "std      3.743556    4.462796      7.243363\n",
       "min      7.450000  209.000000     23.170000\n",
       "25%     13.000000  218.000000     31.352500\n",
       "50%     15.530000  220.000000     37.525000\n",
       "75%     18.802500  222.000000     42.925000\n",
       "max     22.710000  234.000000     51.810000"
      ]
     },
     "execution_count": 34,
     "metadata": {},
     "output_type": "execute_result"
    }
   ],
   "source": [
    "wind_data.describe() #No Apparent outliers"
   ]
  },
  {
   "cell_type": "code",
   "execution_count": 35,
   "metadata": {},
   "outputs": [
    {
     "data": {
      "text/plain": [
       "Text(0.5, 1.0, 'Figure 4 - Correlation Heatmap Showing Strenth of Linear Relationship between Variables')"
      ]
     },
     "execution_count": 35,
     "metadata": {},
     "output_type": "execute_result"
    },
    {
     "data": {
      "image/png": "[encoded data removed]",
      "text/plain": [
       "<Figure size 1296x864 with 2 Axes>"
      ]
     },
     "metadata": {
      "needs_background": "light"
     },
     "output_type": "display_data"
    }
   ],
   "source": [
    "correl = wind_data.corr()\n",
    "plt.subplots(figsize=(18,12))\n",
    "sns.heatmap(correl, center=0, annot=True, linewidths=.3)\n",
    "plt.title('Figure 4 - Correlation Heatmap Showing Strenth of Linear Relationship between Variables', \n",
    "          fontsize = 16)"
   ]
  },
  {
   "cell_type": "code",
   "execution_count": 36,
   "metadata": {},
   "outputs": [
    {
     "data": {
      "text/plain": [
       "Index(['wind speed', 'direction', 'Power Output'], dtype='object')"
      ]
     },
     "execution_count": 36,
     "metadata": {},
     "output_type": "execute_result"
    }
   ],
   "source": [
    "wind_data.columns"
   ]
  },
  {
   "cell_type": "code",
   "execution_count": 37,
   "metadata": {},
   "outputs": [],
   "source": [
    "# Values of target\n",
    "y_1 = wind_data['Power Output'].values\n",
    "\n",
    "# Values of attributes\n",
    "X_1data = wind_data.drop(['Power Output'], axis=1)\n",
    "X_1 = X_1data.values\n",
    "\n",
    "# Splitting\n",
    "X_1train, X_1test, y_1train, y_1test = train_test_split(X_1, y_1, test_size=0.3, random_state=0)"
   ]
  },
  {
   "cell_type": "code",
   "execution_count": 38,
   "metadata": {},
   "outputs": [
    {
     "name": "stdout",
     "output_type": "stream",
     "text": [
      "Training Features Shape: (256, 2)\n",
      "Training Labels Shape: (256,)\n",
      "Testing Features Shape: (110, 2)\n",
      "Testing Labels Shape: (110,)\n"
     ]
    }
   ],
   "source": [
    "print('Training Features Shape:', X_1train.shape)\n",
    "print('Training Labels Shape:', y_1train.shape)\n",
    "print('Testing Features Shape:', X_1test.shape)\n",
    "print('Testing Labels Shape:', y_1test.shape)"
   ]
  },
  {
   "cell_type": "code",
   "execution_count": 39,
   "metadata": {},
   "outputs": [],
   "source": [
    "rf_wind = RandomForestRegressor(n_estimators = 150)"
   ]
  },
  {
   "cell_type": "code",
   "execution_count": 40,
   "metadata": {},
   "outputs": [
    {
     "data": {
      "text/plain": [
       "RandomForestRegressor(n_estimators=150)"
      ]
     },
     "execution_count": 40,
     "metadata": {},
     "output_type": "execute_result"
    }
   ],
   "source": [
    "rf_wind.fit(X_1train, y_1train)"
   ]
  },
  {
   "cell_type": "code",
   "execution_count": 41,
   "metadata": {},
   "outputs": [
    {
     "data": {
      "text/plain": [
       "0.723859708849248"
      ]
     },
     "execution_count": 41,
     "metadata": {},
     "output_type": "execute_result"
    }
   ],
   "source": [
    "prediction = rf_wind.predict(X_1test)\n",
    "score = r2_score(y_1test, prediction)\n",
    "score"
   ]
  },
  {
   "cell_type": "markdown",
   "metadata": {},
   "source": [
    "### Model Performance\n",
    "\n",
    "Our Random Forest Regressor does not perform too well here. However, for the purpose of this exercise, we shall forge on with this model.\n",
    "\n",
    "Let us take a look at the feature importance of the input variables."
   ]
  },
  {
   "cell_type": "code",
   "execution_count": 42,
   "metadata": {},
   "outputs": [
    {
     "data": {
      "text/html": [
       "<div>\n",
       "<style scoped>\n",
       "    .dataframe tbody tr th:only-of-type {\n",
       "        vertical-align: middle;\n",
       "    }\n",
       "\n",
       "    .dataframe tbody tr th {\n",
       "        vertical-align: top;\n",
       "    }\n",
       "\n",
       "    .dataframe thead th {\n",
       "        text-align: right;\n",
       "    }\n",
       "</style>\n",
       "<table border=\"1\" class=\"dataframe\">\n",
       "  <thead>\n",
       "    <tr style=\"text-align: right;\">\n",
       "      <th></th>\n",
       "      <th>feature</th>\n",
       "      <th>importance</th>\n",
       "    </tr>\n",
       "  </thead>\n",
       "  <tbody>\n",
       "    <tr>\n",
       "      <th>0</th>\n",
       "      <td>wind speed</td>\n",
       "      <td>0.76638</td>\n",
       "    </tr>\n",
       "    <tr>\n",
       "      <th>1</th>\n",
       "      <td>direction</td>\n",
       "      <td>0.23362</td>\n",
       "    </tr>\n",
       "  </tbody>\n",
       "</table>\n",
       "</div>"
      ],
      "text/plain": [
       "      feature  importance\n",
       "0  wind speed     0.76638\n",
       "1   direction     0.23362"
      ]
     },
     "execution_count": 42,
     "metadata": {},
     "output_type": "execute_result"
    }
   ],
   "source": [
    "result_1 = pd.DataFrame()\n",
    "result_1['feature'] = X_1data.columns # column's names\n",
    "result_1['importance'] = rf_wind.feature_importances_ # values\n",
    "result_1.sort_values(by=['importance'], ascending=False, inplace=True)\n",
    "result_1"
   ]
  },
  {
   "cell_type": "code",
   "execution_count": 43,
   "metadata": {},
   "outputs": [
    {
     "data": {
      "image/png": "[encoded data removed]",
      "text/plain": [
       "<Figure size 2160x576 with 1 Axes>"
      ]
     },
     "metadata": {
      "needs_background": "light"
     },
     "output_type": "display_data"
    }
   ],
   "source": [
    "plt.figure(figsize = (30,8))\n",
    "plt.title('Figure 5 - Feature Importances', fontsize = 25)\n",
    "plt.bar(range(len(result_1['feature'])), result_1['importance'], color='blue', align='center')\n",
    "plt.xticks(range(len(result_1['feature'])), result_1['feature'], rotation=90)\n",
    "plt.show()"
   ]
  },
  {
   "cell_type": "markdown",
   "metadata": {},
   "source": [
    "From the Feature Importance table and figure above, we see that the 2 input variables are key towards predicting the putput variable, albeit, the wind_speed gives a better indication of Power Output compared to wind direction."
   ]
  },
  {
   "cell_type": "code",
   "execution_count": null,
   "metadata": {},
   "outputs": [],
   "source": []
  },
  {
   "cell_type": "code",
   "execution_count": null,
   "metadata": {},
   "outputs": [],
   "source": []
  },
  {
   "cell_type": "markdown",
   "metadata": {},
   "source": [
    "### Saving our model"
   ]
  },
  {
   "cell_type": "code",
   "execution_count": 44,
   "metadata": {},
   "outputs": [],
   "source": [
    "pickle.dump(rf_wind, file = open(\"wind_model.pkl\", \"wb\"))"
   ]
  },
  {
   "cell_type": "code",
   "execution_count": null,
   "metadata": {},
   "outputs": [],
   "source": []
  },
  {
   "cell_type": "markdown",
   "metadata": {},
   "source": [
    "# End of Notebook"
   ]
  },
  {
   "cell_type": "code",
   "execution_count": null,
   "metadata": {},
   "outputs": [],
   "source": []
  }
 ],
 "metadata": {
  "kernelspec": {
   "display_name": "Python 3",
   "language": "python",
   "name": "python3"
  },
  "language_info": {
   "codemirror_mode": {
    "name": "ipython",
    "version": 3
   },
   "file_extension": ".py",
   "mimetype": "text/x-python",
   "name": "python",
   "nbconvert_exporter": "python",
   "pygments_lexer": "ipython3",
   "version": "3.7.6"
  }
 },
 "nbformat": 4,
 "nbformat_minor": 4
}
